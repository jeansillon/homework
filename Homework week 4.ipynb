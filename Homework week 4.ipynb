{
 "cells": [
  {
   "cell_type": "code",
   "execution_count": 3,
   "metadata": {},
   "outputs": [
    {
     "name": "stdout",
     "output_type": "stream",
     "text": [
      "Renting a car is more affordable\n"
     ]
    }
   ],
   "source": [
    "# 1. Create an if statement\n",
    "if statement\n",
    "age = 29\n",
    "\n",
    "if age >= 25:\n",
    " print(\"Renting a car is more affordable\")\n",
    "\n",
    "if age < 25:\n",
    "  print(\"Renting a car is very expensive\")\n"
   ]
  },
  {
   "cell_type": "code",
   "execution_count": 13,
   "metadata": {},
   "outputs": [
    {
     "name": "stdout",
     "output_type": "stream",
     "text": [
      "You cannot legally rent a car\n"
     ]
    }
   ],
   "source": [
    "#2. If else statement\n",
    "age = 12\n",
    "\n",
    "if age >= 25:\n",
    " print(\"Renting a car is more affordable\")\n",
    "elif age < 25 and age >= 18:\n",
    "    print(\"Renting a car is very expensive\")\n",
    "else:\n",
    "    print(\"You cannot legally rent a car\")"
   ]
  },
  {
   "cell_type": "code",
   "execution_count": 10,
   "metadata": {},
   "outputs": [
    {
     "name": "stdout",
     "output_type": "stream",
     "text": [
      "43\n"
     ]
    }
   ],
   "source": [
    "#3.Characters and Vowels counts\n",
    "lazydog = \"The quick brown fox jumps over the lazy dog\"\n",
    "count = 0\n",
    "for char in lazydog:\n",
    "     count = count + 1\n",
    "print(count)\n",
    "        "
   ]
  },
  {
   "cell_type": "code",
   "execution_count": 55,
   "metadata": {},
   "outputs": [
    {
     "name": "stdout",
     "output_type": "stream",
     "text": [
      "Number of vowels in the given string is:  11\n"
     ]
    }
   ],
   "source": [
    "#print vowels\n",
    "lazydog = \"The quick brown fox jumps over the lazy dog\"\n",
    "count = 0\n",
    "vowels = [\"a\", \"e\", \"i\", \"o\", \"u\"]\n",
    "for i in range(len(lazydog)):\n",
    "    if lazydog[i] in vowels:\n",
    "        count += 1\n",
    "print(\"Number of vowels in the given string is: \", count)"
   ]
  },
  {
   "cell_type": "code",
   "execution_count": 32,
   "metadata": {},
   "outputs": [
    {
     "name": "stdout",
     "output_type": "stream",
     "text": [
      "trousers Dark Sapphire\n",
      "trousers maple\n",
      "trousers aqua\n",
      "trousers fuchsia\n",
      "trousers burnt sienna\n",
      "trousers auburn\n",
      "trousers cerise\n",
      "trousers gunmetal blue\n",
      "blouse Dark Sapphire\n",
      "blouse maple\n",
      "blouse aqua\n",
      "blouse fuchsia\n",
      "blouse burnt sienna\n",
      "blouse auburn\n",
      "blouse cerise\n",
      "blouse gunmetal blue\n",
      "bandana Dark Sapphire\n",
      "bandana maple\n",
      "bandana aqua\n",
      "bandana fuchsia\n",
      "bandana burnt sienna\n",
      "bandana auburn\n",
      "bandana cerise\n",
      "bandana gunmetal blue\n",
      "cumber band Dark Sapphire\n",
      "cumber band maple\n",
      "cumber band aqua\n",
      "cumber band fuchsia\n",
      "cumber band burnt sienna\n",
      "cumber band auburn\n",
      "cumber band cerise\n",
      "cumber band gunmetal blue\n",
      "blazer Dark Sapphire\n",
      "blazer maple\n",
      "blazer aqua\n",
      "blazer fuchsia\n",
      "blazer burnt sienna\n",
      "blazer auburn\n",
      "blazer cerise\n",
      "blazer gunmetal blue\n",
      "vest Dark Sapphire\n",
      "vest maple\n",
      "vest aqua\n",
      "vest fuchsia\n",
      "vest burnt sienna\n",
      "vest auburn\n",
      "vest cerise\n",
      "vest gunmetal blue\n",
      "french beret Dark Sapphire\n",
      "french beret maple\n",
      "french beret aqua\n",
      "french beret fuchsia\n",
      "french beret burnt sienna\n",
      "french beret auburn\n",
      "french beret cerise\n",
      "french beret gunmetal blue\n",
      "scarf Dark Sapphire\n",
      "scarf maple\n",
      "scarf aqua\n",
      "scarf fuchsia\n",
      "scarf burnt sienna\n",
      "scarf auburn\n",
      "scarf cerise\n",
      "scarf gunmetal blue\n",
      "stole Dark Sapphire\n",
      "stole maple\n",
      "stole aqua\n",
      "stole fuchsia\n",
      "stole burnt sienna\n",
      "stole auburn\n",
      "stole cerise\n",
      "stole gunmetal blue\n"
     ]
    }
   ],
   "source": [
    "#4. Write a nested loop\n",
    "couture = [\"trousers\", \"blouse\", \"bandana\", \"cumber band\", \"blazer\", \"vest\", \"french beret\", \"scarf\", \"stole\"]\n",
    "panettone = {\"cerise\", \"fuchsia\", \"aqua\", \"maple\", \"auburn\", \"burnt sienna\", \"gunmetal blue\", \"Dark Sapphire\"}\n",
    "for x in couture:\n",
    "\tfor y in panettone:\n",
    "\t\tprint(x,y) "
   ]
  },
  {
   "cell_type": "code",
   "execution_count": 36,
   "metadata": {},
   "outputs": [
    {
     "name": "stdout",
     "output_type": "stream",
     "text": [
      "sum = 5050\n"
     ]
    }
   ],
   "source": [
    "#5. Use range as a loop to calculate the sum of all the numbers from 1 to 100\n",
    "n = 100\n",
    "total_numbers = n\n",
    "sum = 0\n",
    "while n >= 0:\n",
    "    sum += n\n",
    "    n -= 1\n",
    "print(\"sum =\", sum)"
   ]
  },
  {
   "cell_type": "code",
   "execution_count": 16,
   "metadata": {},
   "outputs": [
    {
     "name": "stdout",
     "output_type": "stream",
     "text": [
      "cherry\n"
     ]
    }
   ],
   "source": [
    "#6. Print the second item in this fruits list.\n",
    "fruitlist = [\"apple\", \"banana\", \"cherry\"]\n",
    "for x in range(1,len(fruitlist),2):\n",
    "    print(fruitlist[x-2])"
   ]
  },
  {
   "cell_type": "code",
   "execution_count": 24,
   "metadata": {},
   "outputs": [
    {
     "name": "stdout",
     "output_type": "stream",
     "text": [
      "['kiwi', 'banana', 'cherry']\n",
      "['kiwi', 'banana', 'cherry']\n",
      "['kiwi', 'banana', 'cherry']\n"
     ]
    }
   ],
   "source": [
    "#7. Change the value from \"apple\" to \"kiwi\", in the fruits list.\n",
    "fruitlist = [\"apple\", \"banana\", \"cherry\"]\n",
    "for i in range(len(fruitlist)):\n",
    "    if fruitlist[i] == 'apple':\n",
    "        fruitlist[i] = 'kiwi'\n",
    "    print(fruitlist)"
   ]
  },
  {
   "cell_type": "code",
   "execution_count": 25,
   "metadata": {},
   "outputs": [
    {
     "name": "stdout",
     "output_type": "stream",
     "text": [
      "Updated fruitlist:  ['apple', 'banana', 'cherry', 'orange']\n"
     ]
    }
   ],
   "source": [
    "#8. Use the append method to add \"orange\" to the fruits list\n",
    "fruitlist = [\"apple\", \"banana\", \"cherry\"]\n",
    "fruitlist.append('orange')\n",
    "print('Updated fruitlist: ', fruitlist)"
   ]
  },
  {
   "cell_type": "code",
   "execution_count": 26,
   "metadata": {},
   "outputs": [
    {
     "name": "stdout",
     "output_type": "stream",
     "text": [
      "['apple', 'lemonade', 'banana', 'cherry']\n"
     ]
    }
   ],
   "source": [
    "#9. Use the insert method to add \"lemon\" as the second item in the fruits list\n",
    "fruitlist = [\"apple\", \"banana\", \"cherry\"]\n",
    "fruitlist.insert(1, \"lemonade\")\n",
    "print(fruitlist)\n"
   ]
  },
  {
   "cell_type": "code",
   "execution_count": 44,
   "metadata": {},
   "outputs": [
    {
     "name": "stdout",
     "output_type": "stream",
     "text": [
      "['apple', 'cherry']\n"
     ]
    }
   ],
   "source": [
    "#10. Use the remove method to remove \"banana\" from the fruits list\n",
    "fruitlist = [\"apple\", \"banana\", \"cherry\"]\n",
    "for fruit in fruitlist[:]:\n",
    "    if(fruit == \"banana\"):\n",
    "        fruitlist.remove(fruit)\n",
    "print(fruitlist)"
   ]
  },
  {
   "cell_type": "code",
   "execution_count": 26,
   "metadata": {},
   "outputs": [
    {
     "name": "stdout",
     "output_type": "stream",
     "text": [
      "['kiwi', 'melon']\n"
     ]
    }
   ],
   "source": [
    "#11. Use negative indexing to print the 3rd and 2nd to last items in the list.\n",
    "fruitlist1 = [\"apple\", \"banana\", \"cherry\", \"orange\", \"kiwi\", \"melon\", \"mango\"]\n",
    "print(fruitlist1[-3:-1])"
   ]
  },
  {
   "cell_type": "code",
   "execution_count": 7,
   "metadata": {},
   "outputs": [
    {
     "name": "stdout",
     "output_type": "stream",
     "text": [
      "['orange', 'kiwi', 'melon']\n"
     ]
    }
   ],
   "source": [
    "#12. Use a range of indexes to print the third, fourth, and fifth item in the list. \n",
    "fruitlist = [\"apple\", \"banana\", \"cherry\", \"orange\", \"kiwi\", \"melon\", \"mango\"]\n",
    "print(fruitlist[3:6])"
   ]
  },
  {
   "cell_type": "code",
   "execution_count": 22,
   "metadata": {},
   "outputs": [
    {
     "name": "stdout",
     "output_type": "stream",
     "text": [
      "7\n"
     ]
    }
   ],
   "source": [
    "#13. Use the correct syntax to print the number of items in the list\n",
    "fruitlist = [\"apple\", \"banana\", \"cherry\", \"orange\", \"kiwi\", \"melon\", \"mango\"]\n",
    "print(len(fruitlist))"
   ]
  },
  {
   "cell_type": "code",
   "execution_count": 2,
   "metadata": {},
   "outputs": [
    {
     "name": "stdout",
     "output_type": "stream",
     "text": [
      "['orange', 'melon', 'mango', 'kiwi', 'cherry', 'banana', 'apple']\n"
     ]
    }
   ],
   "source": [
    "#14.Use the correct syntax to sort this list in reverse order \n",
    "fruitlist = [\"apple\", \"banana\", \"cherry\", \"orange\", \"kiwi\", \"melon\", \"mango\"]\n",
    "sorted_fruitlist = sorted(fruitlist, reverse=True)\n",
    "print(sorted_fruitlist)"
   ]
  },
  {
   "attachments": {},
   "cell_type": "markdown",
   "metadata": {},
   "source": [
    "# 1. If an user wants to use code from a module or a library in our applications, the user first need to import the respective module into the code-base by using the import statement.\n",
    "# 2. HTML and Random\n",
    "# 3. It allows to separate error-handling code from normal code.\n",
    "# 4. try - except - else - finally\n",
    "# 5. numpy array is a floating point data type also known as numerical python.\n",
    "# 6 . numpy supplies an enormous library of high-level mathematical functions that operate on these arrays and matrices\n",
    "# 7. same data type and size.\n",
    "# 8. statical operations and stacking\n",
    "# 9 . Pandas and SciPy\n",
    "# 10. The shape is a _**tuple** of non-negative integers_ that specify the dimentions, length and size of each array (3,2,4)\n",
    "# 11. A tensor is an array with 3+ dimensions.\n",
    "# 12. NumPy arrays are faster compared to list.\n",
    "# 13. The initial content is random and depends on the state of the memory\n"
   ]
  },
  {
   "cell_type": "code",
   "execution_count": 63,
   "metadata": {},
   "outputs": [
    {
     "name": "stdout",
     "output_type": "stream",
     "text": [
      "Current Date and Time ... 2023-05-14 20:05:52.449255\n"
     ]
    }
   ],
   "source": [
    "\n",
    "# Get Current Date and Time\n",
    "today = dt.datetime.now()\n",
    "print(\"Current Date and Time ...\", today)"
   ]
  },
  {
   "cell_type": "code",
   "execution_count": 64,
   "metadata": {},
   "outputs": [
    {
     "name": "stdout",
     "output_type": "stream",
     "text": [
      "Full name:  May\n"
     ]
    }
   ],
   "source": [
    "import datetime\n",
    "month_num = \"5\"\n",
    "today = datetime.datetime.strptime(month_num, \"%m\")\n",
    "\n",
    "full_month_name = today.strftime(\"%B\")\n",
    "print(\"Full name: \",full_month_name)"
   ]
  },
  {
   "cell_type": "code",
   "execution_count": 83,
   "metadata": {},
   "outputs": [
    {
     "name": "stdout",
     "output_type": "stream",
     "text": [
      "\n",
      "Hi, Jean! Happy Sunday!!\n",
      "\n",
      "Hi, Jean! Happy Sunday!!\n"
     ]
    }
   ],
   "source": [
    "#Write a simple function that takes 2 parameters -- a first name and a day name.\n",
    "def greeting(fname, day_name = 'Sunday'): \n",
    "    print(\"\\nHi, \" + fname + \"! Happy \"+ day_name + \"!!\")\n",
    "# invoke with 2 parameters\n",
    "greeting(\"Jean\", \"Sunday\")\n",
    "# Invoke with 1 parameter\n",
    "greeting(\"Jean\")\n"
   ]
  },
  {
   "cell_type": "code",
   "execution_count": 87,
   "metadata": {},
   "outputs": [
    {
     "name": "stdout",
     "output_type": "stream",
     "text": [
      "Something went wrong\n",
      "The 'try except' is finished\n"
     ]
    }
   ],
   "source": [
    "# Write a block of code to handle one of the most common Python exception errors\n",
    "try:    \n",
    "    pritn('test')\n",
    "except:\n",
    "    print(\"Something went wrong\")\n",
    "else:\n",
    "    print(\"Nothing went wrong\")\n",
    "finally:\n",
    "    print(\"The 'try except' is finished\")"
   ]
  }
 ],
 "metadata": {
  "kernelspec": {
   "display_name": "Python 3",
   "language": "python",
   "name": "python3"
  },
  "language_info": {
   "codemirror_mode": {
    "name": "ipython",
    "version": 3
   },
   "file_extension": ".py",
   "mimetype": "text/x-python",
   "name": "python",
   "nbconvert_exporter": "python",
   "pygments_lexer": "ipython3",
   "version": "3.11.3"
  },
  "orig_nbformat": 4
 },
 "nbformat": 4,
 "nbformat_minor": 2
}
