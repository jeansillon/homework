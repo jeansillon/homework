{
 "cells": [
  {
   "cell_type": "code",
   "execution_count": 69,
   "id": "0d198ba3",
   "metadata": {},
   "outputs": [
    {
     "name": "stdout",
     "output_type": "stream",
     "text": [
      "aArray original shape ...\n",
      " [31 32 33 34 35 36 37 38 39 40 41 42]\n",
      "\n",
      " reshaping aArray ...\n",
      " [[[31 32]\n",
      "  [33 34]\n",
      "  [35 36]]\n",
      "\n",
      " [[37 38]\n",
      "  [39 40]\n",
      "  [41 42]]]\n"
     ]
    }
   ],
   "source": [
    "# 7. Import NumPy, use one of the NumPy methods and create an array with a shape of ... (2, 3, 2). You can use the reshape method -- .reshape()\n",
    "import numpy as np\n",
    "aArray = np.array([31, 32, 33, 34, 35, 36, 37, 38, 39, 40, 41, 42])\n",
    "print(\"aArray original shape ...\\n\", aArray)\n",
    "\n",
    "reshape1 = aArray.reshape(2, 3, 2)\n",
    "print(\"\\n reshaping aArray ...\\n\", reshape1)"
   ]
  },
  {
   "cell_type": "code",
   "execution_count": 70,
   "id": "c0d6f55f",
   "metadata": {},
   "outputs": [
    {
     "name": "stdout",
     "output_type": "stream",
     "text": [
      "Array b ... [ 0.  4.  8. 12. 16. 20.]\n"
     ]
    }
   ],
   "source": [
    "# 8. Use NumPy .linspace() to create an array with 6 linearly spaced values between 0 and 20\n",
    "import numpy as np\n",
    "lin_array = np.linspace(0, 20, num=6)\n",
    "print(\"Array b ...\", lin_array)"
   ]
  },
  {
   "cell_type": "code",
   "execution_count": 8,
   "id": "83d6c3ed",
   "metadata": {},
   "outputs": [
    {
     "name": "stdout",
     "output_type": "stream",
     "text": [
      "The bArray ...\n",
      " [0, 4, 8, 2, 16, 20]\n",
      "\n",
      "The cArray ...\n",
      " [0, 4, 8, 2, 16, 20]\n"
     ]
    }
   ],
   "source": [
    "# 9. Make a Deep Copy of the above array\n",
    "import copy\n",
    "bArray = [ 0, 4, 8, 2, 16, 20 ]\n",
    "zArray = copy.deepcopy(bArray)\n",
    "\n",
    "print(\"The bArray ...\\n\", bArray)\n",
    "print(\"\\nThe cArray ...\\n\", bArray)"
   ]
  },
  {
   "cell_type": "code",
   "execution_count": 9,
   "id": "685370fb",
   "metadata": {},
   "outputs": [
    {
     "name": "stdout",
     "output_type": "stream",
     "text": [
      "The sum of aa and bb ...\n",
      "\n",
      "[[1.51 1.3  1.71 1.82]\n",
      " [0.9  0.69 1.1  1.21]\n",
      " [1.04 0.83 1.24 1.35]\n",
      " [1.1  0.89 1.3  1.41]]\n"
     ]
    }
   ],
   "source": [
    "# 10. Using NumPy, 'broadcast' the multiplication of the following 2 arrays below to a 2-D array using the newaxis parameter ...\n",
    "from numpy import array, newaxis\n",
    "\n",
    "aa = array([0.71, 0.1, 0.24, 0.3])\n",
    "bb = array([0.8, 0.59, 1.0, 1.11])\n",
    "\n",
    "print(\"The sum of aa and bb ...\\n\")\n",
    "print(aa[:,newaxis] + bb)\n",
    "\n",
    "\n"
   ]
  },
  {
   "cell_type": "code",
   "execution_count": 13,
   "id": "a29d89aa",
   "metadata": {},
   "outputs": [
    {
     "name": "stdout",
     "output_type": "stream",
     "text": [
      "\n",
      "And array4 ...\n",
      " [[ 7 81]\n",
      " [ 5  6]\n",
      " [11 12]\n",
      " [25 16]\n",
      " [11  2]\n",
      " [13  4]]\n"
     ]
    }
   ],
   "source": [
    "# 11. Concatenate these 3 arrays into a new array named 'newArray'..\n",
    "import numpy as np\n",
    "array1 = np.array ([[25, 16]])\n",
    "array2 = np.array([[11, 2], [13, 4]])\n",
    "array3 = np.array([[7, 81], [5, 6], [11, 12]])\n",
    "\n",
    "array4 = np.concatenate((array3, array1, array2), axis=0)\n",
    "print(\"\\nAnd array4 ...\\n\", array4)\n",
    "\n",
    "# 12. Sort 'newArray' in order into 'sortedArray'\n",
    "arrayCSsort = np.sort(array4)\n",
    "\n",
    "# print (\"\\narray4 sorted ...\\n\", arrayCSsort)\n",
    "\n",
    "# 13. Reshape the 'sortedArray' array, into a new array called 'reshapedArray', so it has 2 dimensions with a size of 2, 3.\n",
    "reshapedarray = arrayCSsort.reshape(2, 2, 3)\n",
    "# print (\"\\nreshappedarray ...\\n\", reshapedarray)\n"
   ]
  },
  {
   "cell_type": "code",
   "execution_count": 18,
   "id": "8b784643",
   "metadata": {},
   "outputs": [
    {
     "name": "stdout",
     "output_type": "stream",
     "text": [
      "a =  [[7, 81], [5, 6]]\n",
      "b =  [[11, 12], [25, 16]]\n",
      "c =  [[11, 2], [13, 4]]\n",
      "The data type of c ... <class 'list'>\n"
     ]
    }
   ],
   "source": [
    "# 14. Unpack the array tuples from the above 'reshapedArray' into 4 well named variables. Print the 4 variables\n",
    "\n",
    "import numpy as np\n",
    "tt = ([ [ [7, 81], [5, 6] ],\n",
    "        [ [11, 12], [25, 16] ],\n",
    "         [[11, 2], [13, 4]] ])\n",
    "\n",
    "a, b, c = tt\n",
    "\n",
    "print(\"a = \", a)\n",
    "print(\"b = \", b)\n",
    "print(\"c = \", c)\n",
    "print(\"The data type of c ...\", type(c))"
   ]
  },
  {
   "cell_type": "code",
   "execution_count": 23,
   "id": "c70f25b3",
   "metadata": {},
   "outputs": [
    {
     "name": "stdout",
     "output_type": "stream",
     "text": [
      "Print arrCombo ... [10 11 12 13 14 15 16 17 20 21 22 23 24 25 26 27  0  1  2  3  4  5  6  7]\n",
      "arrCombo ... [ 0  1  2  3  4  5  6  7 10 11 12 13 14 15 16 17 20 21 22 23 24 25 26 27]\n"
     ]
    }
   ],
   "source": [
    "# 15. Combined and sort the following arrays into one called 'comboArray' ..\n",
    "\n",
    "from numpy import array\n",
    "one = array([10, 11, 12, 13, 14, 15, 16, 17])\n",
    "two = array([20, 21, 22, 23, 24, 25, 26, 27])\n",
    "three = array([ 0, 1, 2, 3, 4, 5, 6, 7])\n",
    "\n",
    "arrCombo = np.concatenate((one, two, three))\n",
    "print(\"Print arrCombo ...\", arrCombo)\n",
    "\n",
    "arrayCSsort = np.sort(arrCombo)\n",
    "arrCombosort = np.sort(arrCombo)\n",
    "print(\"arrCombo ...\", arrCombosort)"
   ]
  },
  {
   "cell_type": "code",
   "execution_count": 6,
   "id": "0b51abf9",
   "metadata": {},
   "outputs": [
    {
     "name": "stdout",
     "output_type": "stream",
     "text": [
      "\n",
      "The arrCombo array ... [ 0  1  2  3  4  5  6  7 10 11 12 13 14 15 16 17 20 21 22 23 24 25 26 27]\n",
      "sec1 element [1] ... 1\n",
      "sec2 element [2:] ... [ 2  3  4  5  6  7 10 11 12 13 14 15 16 17 20 21 22 23 24 25 26 27]\n",
      "sec3 element [3:15] ... [ 3  4  5  6  7 10 11 12 13 14 15 16]\n",
      "sec4 element [-6:] ... [22 23 24 25 26 27]\n",
      "sec5 element [-24:-10] ... [ 0  1  2  3  4  5  6  7 10 11 12 13 14 15]\n",
      "sec6 element [16::] ... [20 22 24 26]\n",
      "sec7 element [::-5] ... [27 22 15 10  3]\n"
     ]
    }
   ],
   "source": [
    "#16. Take 'comboArray' and perform the following slicing activities:\n",
    "import numpy as np\n",
    "arrCombo = np.array([ 0, 1, 2, 3, 4, 5, 6, 7, 10, 11, 12, 13, 14, 15, 16, 17, 20, 21, 22, 23, 24, 25, 26, 27])\n",
    "print(\"\\nThe arrCombo array ...\", arrCombo)\n",
    "# a. print sec1 - the 2nd element\n",
    "sec1 = arrCombo[1]\n",
    "print(\"sec1 element [1] ...\", sec1)\n",
    "\n",
    "# b. print sec2 - all elements from the 3rd element to the last\n",
    "sec2 = arrCombo[2:]\n",
    "print(\"sec2 element [2:] ...\", sec2)\n",
    "\n",
    "# c. print sec3 - all elements from the 4th to the 14th elements\n",
    "sec3 = arrCombo[3:15]\n",
    "print(\"sec3 element [3:15] ...\", sec3)\n",
    "\n",
    "# d. print sec4 - the last 6 elements\n",
    "sec4 = arrCombo[-6:]\n",
    "print(\"sec4 element [-6:] ...\", sec4)\n",
    "\n",
    "# e. print sec5 - all element from #0 up to and including #15, using the negative number method, i.e. taking a section from the end\n",
    "sec5 = arrCombo[-24:-10]\n",
    "print(\"sec5 element [-24:-10] ...\", sec5)\n",
    "\n",
    "# f. print sec6 - from #20 every even element to the end\n",
    "sec6 = arrCombo[16::2]\n",
    "print(\"sec6 element [16::] ...\", sec6)\n",
    "\n",
    "# g. print sec7 - from the last element moving forward, every 5th element.\n",
    "sec7 = arrCombo[::-5]\n",
    "print(\"sec7 element [::-5] ...\", sec7)\n",
    "\n"
   ]
  },
  {
   "cell_type": "code",
   "execution_count": 54,
   "id": "86ef0254",
   "metadata": {},
   "outputs": [
    {
     "name": "stdout",
     "output_type": "stream",
     "text": [
      "\n",
      "Addition ...\n",
      " [[[ 17.    70.    10.8 ]\n",
      "  [ 27.    80.3   20.71]]\n",
      "\n",
      " [[ 37.    90.02  30.8 ]\n",
      "  [ 47.   101.    41.  ]]\n",
      "\n",
      " [[ 57.4   94.    50.7 ]\n",
      "  [ 32.    85.5   36.2 ]]]\n",
      "\n",
      "Multiplication ...\n",
      " [[[0.00000e+00 0.00000e+00 1.07000e+00]\n",
      "  [1.70000e+02 7.21000e+02 1.07107e+02]]\n",
      "\n",
      " [[3.40000e+02 1.40140e+03 2.15070e+02]\n",
      "  [5.10000e+02 2.17000e+03 3.24210e+02]]\n",
      "\n",
      " [[6.86800e+02 1.68000e+03 4.28000e+02]\n",
      "  [2.55000e+02 1.08500e+03 2.72850e+02]]]\n",
      "\n",
      "Division ...\n",
      " [[[0.         0.         0.00934579]\n",
      "  [0.58823529 0.14714286 0.93551402]]\n",
      "\n",
      " [[1.17647059 0.286      1.87850467]\n",
      "  [1.76470588 0.44285714 2.8317757 ]]\n",
      "\n",
      " [[2.37647059 0.34285714 3.73831776]\n",
      "  [0.88235294 0.22142857 2.38317757]]]\n"
     ]
    }
   ],
   "source": [
    "# 17. Using simple math operations, broadcast the addition (+), division (/), and multiplication (*) operations for these 2 arrays --\n",
    "import numpy as np\n",
    "array1 = np.array([[[ 0.0,  0.0,  0.10], [10.0, 10.30, 10.01]],\n",
    "        [[20.0, 20.02, 20.10], [30.0, 31.0, 30.30]],\n",
    "        [[40.40, 24.0, 40.0], [15.0, 15.5, 25.5]]])\n",
    "\n",
    "array2 = np.array([[17.0, 70.0, 10.7]])\n",
    "\n",
    "array3 = np.add(array1, array2)\n",
    "print(\"\\nAddition ...\\n\", array3)\n",
    "\n",
    "array4 = np.multiply(array1, array2)\n",
    "print(\"\\nMultiplication ...\\n\", array4)\n",
    "\n",
    "array5 = np.divide(array1, array2)\n",
    "print(\"\\nDivision ...\\n\", array5)\n"
   ]
  },
  {
   "cell_type": "code",
   "execution_count": 55,
   "id": "1817a772",
   "metadata": {},
   "outputs": [
    {
     "name": "stdout",
     "output_type": "stream",
     "text": [
      "\n",
      "Subtraction ...\n",
      " [[[-17.   -70.   -10.6 ]\n",
      "  [ -7.   -59.7   -0.69]]\n",
      "\n",
      " [[  3.   -49.98   9.4 ]\n",
      "  [ 13.   -39.    19.6 ]]\n",
      "\n",
      " [[ 23.4  -46.    29.3 ]\n",
      "  [ -2.   -54.5   14.8 ]]]\n"
     ]
    }
   ],
   "source": [
    "# 18. Use the NumPy Arithmetic functions to do the subtraction of the above two arrays in pont #7\n",
    "import numpy as np\n",
    "\n",
    "array1 = np.array([[[ 0.0,  0.0,  0.10], [10.0, 10.30, 10.01]],\n",
    "        [[20.0, 20.02, 20.10], [30.0, 31.0, 30.30]],\n",
    "        [[40.40, 24.0, 40.0], [15.0, 15.5, 25.5]]])\n",
    "\n",
    "array2 = np.array([[17.0, 70.0, 10.7]])\n",
    "\n",
    "array6 = np.subtract(array1, array2)\n",
    "print(\"\\nSubtraction ...\\n\", array6)"
   ]
  },
  {
   "cell_type": "code",
   "execution_count": 56,
   "id": "35dd4e93",
   "metadata": {},
   "outputs": [
    {
     "name": "stdout",
     "output_type": "stream",
     "text": [
      "data2 elements divisible_by_3 ... [ 0.  0. 30. 24. 15.]\n"
     ]
    }
   ],
   "source": [
    "# 19. Using modulo find all elements that are divisible by 3 from the multi-dimensional array under point #7 above.\n",
    "import numpy as np\n",
    "array1 = np.array([[[ 0.0,  0.0,  0.10], [10.0, 10.30, 10.01]],\n",
    "        [[20.0, 20.02, 20.10], [30.0, 31.0, 30.30]],\n",
    "        [[40.40, 24.0, 40.0], [15.0, 15.5, 25.5]]])\n",
    "\n",
    "divisible_by_3 = array1[array1 % 3 == 0]\n",
    "print(\"dataarray1 elements divisible_by_3 ...\", divisible_by_3)"
   ]
  },
  {
   "cell_type": "code",
   "execution_count": 57,
   "id": "7c490811",
   "metadata": {},
   "outputs": [
    {
     "name": "stdout",
     "output_type": "stream",
     "text": [
      "  Ingredients  Quantity   Unit\n",
      "0       Flour         4   cups\n",
      "1        Milk         1    cup\n",
      "2        Eggs         2  large\n",
      "3        Spam         1    can\n"
     ]
    }
   ],
   "source": [
    "# 20. Using Series to create a DataFrame\n",
    "import pandas as pd\n",
    "\n",
    "Ingredients = pd.Series([\"Flour\",\"Milk\",\"Eggs\", \"Spam\"], name='Ingredients')\n",
    "Quantity = pd.Series([4, 1, 2, 1], name='Quantity')\n",
    "Unit  = pd.Series([\"cups\", \"cup\", \"large\", \"can\"],name='Unit')\n",
    "\n",
    "df = pd.concat([Ingredients,Quantity,Unit],axis=1)\n",
    "print(df)"
   ]
  },
  {
   "cell_type": "code",
   "execution_count": 83,
   "id": "630dd138",
   "metadata": {},
   "outputs": [
    {
     "name": "stdout",
     "output_type": "stream",
     "text": [
      "      Name  Height Qualification  address  Age        Pets           sport\n",
      "0      Jai     5.1           Msc    Delhi   21         Dog           Darts\n",
      "1  janusha     6.2            MA     Doha   23       Bunny      Basketball\n",
      "2   Gaurav     5.1           Msc  Chennai   24  Chinchilla  PaddleBoarding\n",
      "3     Anuj     5.2           Msc   Dakhar   21      Parrot         Cricket\n"
     ]
    },
    {
     "data": {
      "text/html": [
       "<div>\n",
       "<style scoped>\n",
       "    .dataframe tbody tr th:only-of-type {\n",
       "        vertical-align: middle;\n",
       "    }\n",
       "\n",
       "    .dataframe tbody tr th {\n",
       "        vertical-align: top;\n",
       "    }\n",
       "\n",
       "    .dataframe thead th {\n",
       "        text-align: right;\n",
       "    }\n",
       "</style>\n",
       "<table border=\"1\" class=\"dataframe\">\n",
       "  <thead>\n",
       "    <tr style=\"text-align: right;\">\n",
       "      <th></th>\n",
       "      <th>Name</th>\n",
       "      <th>Height</th>\n",
       "      <th>Qualification</th>\n",
       "      <th>address</th>\n",
       "      <th>Age</th>\n",
       "      <th>Pets</th>\n",
       "      <th>sport</th>\n",
       "      <th>deserts_choice</th>\n",
       "    </tr>\n",
       "  </thead>\n",
       "  <tbody>\n",
       "    <tr>\n",
       "      <th>0</th>\n",
       "      <td>Jai</td>\n",
       "      <td>5.1</td>\n",
       "      <td>Msc</td>\n",
       "      <td>Delhi</td>\n",
       "      <td>21</td>\n",
       "      <td>Dog</td>\n",
       "      <td>Darts</td>\n",
       "      <td>ice cream</td>\n",
       "    </tr>\n",
       "    <tr>\n",
       "      <th>1</th>\n",
       "      <td>janusha</td>\n",
       "      <td>6.2</td>\n",
       "      <td>MA</td>\n",
       "      <td>Doha</td>\n",
       "      <td>23</td>\n",
       "      <td>Bunny</td>\n",
       "      <td>Basketball</td>\n",
       "      <td>Cashew Fudge</td>\n",
       "    </tr>\n",
       "    <tr>\n",
       "      <th>2</th>\n",
       "      <td>Gaurav</td>\n",
       "      <td>5.1</td>\n",
       "      <td>Msc</td>\n",
       "      <td>Chennai</td>\n",
       "      <td>24</td>\n",
       "      <td>Chinchilla</td>\n",
       "      <td>PaddleBoarding</td>\n",
       "      <td>waffels</td>\n",
       "    </tr>\n",
       "    <tr>\n",
       "      <th>3</th>\n",
       "      <td>Anuj</td>\n",
       "      <td>5.2</td>\n",
       "      <td>Msc</td>\n",
       "      <td>Dakhar</td>\n",
       "      <td>21</td>\n",
       "      <td>Parrot</td>\n",
       "      <td>Cricket</td>\n",
       "      <td>Carrot Halwa</td>\n",
       "    </tr>\n",
       "  </tbody>\n",
       "</table>\n",
       "</div>"
      ],
      "text/plain": [
       "      Name  Height Qualification  address  Age        Pets           sport   \n",
       "0      Jai     5.1           Msc    Delhi   21         Dog           Darts  \\\n",
       "1  janusha     6.2            MA     Doha   23       Bunny      Basketball   \n",
       "2   Gaurav     5.1           Msc  Chennai   24  Chinchilla  PaddleBoarding   \n",
       "3     Anuj     5.2           Msc   Dakhar   21      Parrot         Cricket   \n",
       "\n",
       "  deserts_choice  \n",
       "0      ice cream  \n",
       "1   Cashew Fudge  \n",
       "2        waffels  \n",
       "3   Carrot Halwa  "
      ]
     },
     "execution_count": 83,
     "metadata": {},
     "output_type": "execute_result"
    }
   ],
   "source": [
    "# 21. Take this data and create a DataFrame named studentData\n",
    "import pandas as pd\n",
    "studentData = pd.DataFrame({'Name': ['Jai', 'janusha', 'Gaurav', 'Anuj'],\n",
    "        'Height': [5.1, 6.2, 5.1, 5.2],\n",
    "        'Qualification': ['Msc', 'MA', 'Msc', 'Msc'],\n",
    "        'address': ['Delhi', 'Doha', 'Chennai', 'Dakhar'],\n",
    "        'Age': [21, 23, 24, 21],\n",
    "        'Pets': ['Dog', 'Bunny', 'Chinchilla', 'Parrot'],\n",
    "        'sport': ['Darts', 'Basketball', 'PaddleBoarding', 'Cricket']})\n",
    "df = pd.DataFrame(studentData)\n",
    "\n",
    "print(df)\n",
    "\n",
    "# 22. Add a new column to the DataFrame with the following deserts\n",
    "deserts_choice = [\"ice cream\", \"Cashew Fudge\", \"waffels\", \"Carrot Halwa\"]\n",
    "df[\"deserts_choice\"] = deserts_choice\n",
    "df.head()\n",
    "\n"
   ]
  },
  {
   "cell_type": "code",
   "execution_count": 87,
   "id": "143cd168",
   "metadata": {},
   "outputs": [
    {
     "name": "stdout",
     "output_type": "stream",
     "text": [
      "      Name  Height Qualification  address  Age        Pets           sport\n",
      "0      Jai     5.1           Msc    Delhi   21         Dog           Darts\n",
      "1  janusha     6.2            MA     Doha   23       Bunny      Basketball\n",
      "2   Gaurav     5.1           Msc  Chennai   24  Chinchilla  PaddleBoarding\n",
      "3     Anuj     5.2           Msc   Dakhar   21      Parrot         Cricket\n",
      "\n",
      "df sorted by Name ...\n",
      "       Name  Height Qualification  address  Age        Pets           sport\n",
      "3     Anuj     5.2           Msc   Dakhar   21      Parrot         Cricket\n",
      "2   Gaurav     5.1           Msc  Chennai   24  Chinchilla  PaddleBoarding\n",
      "0      Jai     5.1           Msc    Delhi   21         Dog           Darts\n",
      "1  janusha     6.2            MA     Doha   23       Bunny      Basketball\n",
      "\n",
      "df sorted by address ...\n",
      "       Name  Height Qualification  address  Age        Pets           sport\n",
      "2   Gaurav     5.1           Msc  Chennai   24  Chinchilla  PaddleBoarding\n",
      "3     Anuj     5.2           Msc   Dakhar   21      Parrot         Cricket\n",
      "0      Jai     5.1           Msc    Delhi   21         Dog           Darts\n",
      "1  janusha     6.2            MA     Doha   23       Bunny      Basketball\n"
     ]
    }
   ],
   "source": [
    "# 23. Sort the 'studentData' DataFrame in Ascending order -- Sorting by column 'Name' and then \"address\"\n",
    "import pandas as pd\n",
    "studentData = pd.DataFrame({'Name': ['Jai', 'janusha', 'Gaurav', 'Anuj'],\n",
    "        'Height': [5.1, 6.2, 5.1, 5.2],\n",
    "        'Qualification': ['Msc', 'MA', 'Msc', 'Msc'],\n",
    "        'address': ['Delhi', 'Doha', 'Chennai', 'Dakhar'],\n",
    "        'Age': [21, 23, 24, 21],\n",
    "        'Pets': ['Dog', 'Bunny', 'Chinchilla', 'Parrot'],\n",
    "        'sport': ['Darts', 'Basketball', 'PaddleBoarding', 'Cricket']})\n",
    "df = pd.DataFrame(studentData)\n",
    "\n",
    "print(df)\n",
    "# Sort by Nmae\n",
    "df.sort_values(by = ['Name'], inplace = True)\n",
    "print(\"\\ndf sorted by Name ...\\n\", df)\n",
    "# Sort by address\n",
    "df.sort_values(by = ['address'], inplace = True)\n",
    "print(\"\\ndf sorted by address ...\\n\", df)"
   ]
  },
  {
   "cell_type": "code",
   "execution_count": 8,
   "metadata": {},
   "outputs": [
    {
     "name": "stdout",
     "output_type": "stream",
     "text": [
      "        Cows  Goats\n",
      "Year 1    12     22\n",
      "Year 2    20     19\n"
     ]
    }
   ],
   "source": [
    "# 24. Save this DataFrame here below to disc as a .CSV file with the name cows_and_goats.csv:\n",
    "import pandas as pd\n",
    "df = pd.DataFrame({'Cows': [12, 20], 'Goats': [22, 19]}, index=['Year 1', 'Year 2'])\n",
    "print(df)\n",
    "\n",
    "df.to_csv(r'C:\\Users\\timje\\Code\\SavvyCoders\\homework\\cows_and_goats.csv')\n"
   ]
  },
  {
   "cell_type": "code",
   "execution_count": 15,
   "id": "77955e27",
   "metadata": {},
   "outputs": [
    {
     "name": "stdout",
     "output_type": "stream",
     "text": [
      "          List    Type   Color\n",
      "0  Cauliflower  Flower   White\n",
      "1      Spinach   Leafy   Green\n",
      "2       Potato  Tubert  Yellow\n",
      "          List    Type  Color\n",
      "0  Cauliflower  Flower  White\n",
      "1      Spinach   Leafy  Green\n",
      "2       Potato  Tubert    Red\n"
     ]
    }
   ],
   "source": [
    "# 25. (A) Using Pandas, make your own .CSV file with data on vegetables and save it. (B) Using Pandas, make a change to your CSV file, and save a copy with a different name\n",
    "\n",
    "import pandas as pd \n",
    "\n",
    "Vegetables = pd.DataFrame([[\"Cauliflower\", \"Flower\", \"White\"], [\"Spinach\", \"Leafy\", \"Green\"], [\"Potato\", \"Tubert\", \"Yellow\"]], \n",
    "                        columns=[\"List\", \"Type\", \"Color\"])\n",
    "Vegetables\n",
    "Vegetables.to_csv('vegetables.csv')\n",
    "print(Vegetables)\n",
    "Vegetables.to_csv(r'C:\\Users\\timje\\Code\\SavvyCoders\\homework\\Vegetables.csv')\n",
    "\n",
    "Vegetables['Color'] = Vegetables['Color'].replace({'Yellow': 'Red'})\n",
    "Vegetables.to_csv(\"Vegetables.csv\", index=False)\n",
    "print(Vegetables)\n",
    "\n",
    "Vegetables.to_csv(r'C:\\Users\\timje\\Code\\SavvyCoders\\homework\\NewVegetables.csv')"
   ]
  },
  {
   "attachments": {},
   "cell_type": "markdown",
   "id": "bd3782ff",
   "metadata": {},
   "source": [
    "# 1. What does Pandas stand for?\n",
    "# Panel Data,which is a Python Data Analysis Library\n",
    "\n",
    "# 2. What are the 2 collections used in Pandas?\n",
    "# the 2 collections are: Series and Dataframes\n",
    "\n",
    "# 3. Name 4 things Pandas can do for us.\n",
    "# Data Cleansing, Data Normalization, Data Inspection, and Data Fill\n",
    "\n",
    "# 4. To permanently sort a DataFrame, which keyword should one use with the df.sort() method?\n",
    "# Values\n",
    "# 5. What is a CSV\n",
    "# CSV stands for Comma-Separated Values which is a type of data file that contains plain text and is a well know format that can be read by everyone including Pandas.\n",
    "\n",
    "# 6. When cleaning data what values do we not like in our data\n",
    "# Null Values"
   ]
  },
  {
   "cell_type": "code",
   "execution_count": null,
   "id": "b17b38c1",
   "metadata": {},
   "outputs": [],
   "source": []
  }
 ],
 "metadata": {
  "kernelspec": {
   "display_name": "Python 3 (ipykernel)",
   "language": "python",
   "name": "python3"
  },
  "language_info": {
   "codemirror_mode": {
    "name": "ipython",
    "version": 3
   },
   "file_extension": ".py",
   "mimetype": "text/x-python",
   "name": "python",
   "nbconvert_exporter": "python",
   "pygments_lexer": "ipython3",
   "version": "3.11.3"
  }
 },
 "nbformat": 4,
 "nbformat_minor": 5
}
