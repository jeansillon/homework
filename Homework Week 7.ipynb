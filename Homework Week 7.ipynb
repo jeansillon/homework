{
 "cells": [
  {
   "attachments": {},
   "cell_type": "markdown",
   "metadata": {},
   "source": [
    "# 7.1.1 Using EVregistry, Write a query to select the ModelYear, Make, and Model off all of the vehicles in the registry\n",
    "-- SELECT ModelYear, Make, Model\n",
    "-- FROM EVRegistry;"
   ]
  },
  {
   "attachments": {},
   "cell_type": "markdown",
   "metadata": {},
   "source": [
    "# 7.1.2 Using the EVRegistry table, Write a query that lists all of the unique types of EV's. your reult set should have one column, ElectricVehicleType\n",
    "-- SELECT DISTINCT ElectricVehicleType\n",
    "-- FROM EVRegistry"
   ]
  },
  {
   "attachments": {},
   "cell_type": "markdown",
   "metadata": {},
   "source": [
    "# 7.1.3 Using the EVRegistry, Write a query that shows all of the information on Battery Electric Vehicles (BEV) that are in the registry\n",
    "-- SELECT *\n",
    "-- FROM EVRegistry\n",
    "-- WHERE ElectricVehicleType = 'BEV';"
   ]
  },
  {
   "attachments": {},
   "cell_type": "markdown",
   "metadata": {},
   "source": [
    "# 7.1.4 Using the EVRegistry, wirte a query that returns the Make and Model of all of the EV's that have a BaseMSRP between 20000 and 35000?\n",
    "-- SELECT Make, Model\n",
    "-- FROM evRegistry\n",
    "-- WHERE BaseMSRP BETWEEN 20000 AND 35000"
   ]
  },
  {
   "attachments": {},
   "cell_type": "markdown",
   "metadata": {},
   "source": [
    "# 7.2.1 Using EVRegistry, write a query to find a record where the City attribute is NULL. Return all of the available columns\n",
    "-- SELECT Make, Model, ModelYear, City\n",
    "-- FROM EVRegistry\n",
    "-- WHERE City IS NOT NULL;"
   ]
  },
  {
   "attachments": {},
   "cell_type": "markdown",
   "metadata": {},
   "source": [
    "# 7.2.2 Write a query to find the make, model, and ElectricVehicleType where the VIN number has that ends in '3E1EA1J'.\n",
    "-- SELECT Make, Model, ElectricVehicleType\n",
    "-- FROM EVRegistry\n",
    "-- WHERE VIN like '%3E1EA1J';"
   ]
  },
  {
   "attachments": {},
   "cell_type": "markdown",
   "metadata": {},
   "source": [
    "# 7.2.3 Select the ModelYear, make, model, ElectricVehicleType, and range of the Tesla vehicles or cheverolet vehicles in the registry. Order the result set by Make and Model year in from newest to oldest\n",
    "-- SELECT ModelYear, Make, Model, ElectricVehicleType, ElectricRange\n",
    "-- FROM EVRegistry\n",
    "-- WHERE (Make =  'TESLA' OR Make = 'CHEVROLET')\n",
    "-- ORDER by Make, ModelYear DESC;"
   ]
  },
  {
   "attachments": {},
   "cell_type": "markdown",
   "metadata": {},
   "source": [
    "# 7.2.4 Using EVCharging, Write a query to find out how many many times those stations were used. Order them by the most used to the least used and limit the output to 5 records.\n",
    "-- SELECT StationID, Count(*) as numUses\n",
    "-- FROM EVCharging\n",
    "-- GROUP BY StationID \n",
    "-- ORDER BY 2 DESC\n",
    "-- LIMIT 5;"
   ]
  },
  {
   "attachments": {},
   "cell_type": "markdown",
   "metadata": {},
   "source": [
    "# 7.2.5 Using EVCharging, For the folks who charged longer than 0.5 hours, show the min and max of the charging time for each user. Your output columns should be userid, minTime, and maxTime. Order this result set by the last two columns respectively\n",
    "-- SELECT userId, MIN(chargeTimeHrs) as 'minhours', MAX(chargeTimeHrs) as 'maxHours'\n",
    "-- FROM EVCharging\n",
    "-- WHERE chargeTimeHrs > 0.5 \n",
    "-- GROUP BY userId\n",
    "-- ORDER BY 2,3"
   ]
  },
  {
   "attachments": {},
   "cell_type": "markdown",
   "metadata": {},
   "source": [
    "# 7.3.1 Using EVCharging, Which day of the week has the highest average charging time? Round the answer to 2 decimal points.\n",
    "-- SELECT UserId,Weekday, ROUND(SUM(chargeTimeHrs),2) as 'ChargingTime'\n",
    "-- FROM EVcharging\n",
    "-- WHERE weekday = 'Wed'\n",
    "-- GROUP BY UserID, weekday\n",
    "-- ORDER BY ChargingTime DESC;"
   ]
  },
  {
   "attachments": {},
   "cell_type": "markdown",
   "metadata": {},
   "source": [
    "# 7.3.2 Using, EV charging, Find the total power consumed from charging EV's by each User. Return the userId and name the calculated column, totalPower. Round the answer to 2 deciaml points and list the out put in highest to lowest order. Limit the order to the top 15 users\n",
    "-- SELECT UserId, ROUND(SUM(kwhTotal),2) as 'totalPower'\n",
    "-- FROM EVcharging\n",
    "-- GROUP BY UserID\n",
    "-- ORDER BY totalPower DESC\n",
    "-- LIMIT 15;"
   ]
  },
  {
   "attachments": {},
   "cell_type": "markdown",
   "metadata": {},
   "source": [
    "# 7.3.3 Using dimfacility and factCharge, write a query to find out which type of facility (GROUP BY) has the most amount of charging stations. Return type Facility and name the calculated column numStation. Order the result set from highest to lowest number of charging stations.\n",
    "SELECT df.typeFacility as ‘typeFacility’, count(*) as ‘numstations\n",
    "FROM factCharge fc\n",
    "Inner JOIN dimFacility df\n",
    "ON fc.facilityID = df.FacilityKey\n",
    "GROUP BY df.typeFacility\n",
    "ORDER BY 2 DESC;"
   ]
  },
  {
   "attachments": {},
   "cell_type": "markdown",
   "metadata": {},
   "source": [
    "# 7.3.4 In your own words, Briefly explain Primary Keys and Foreign Keys.\n",
    "- A primary key is a is a column in a table that include a unique value which can be used to identify each and every row of a table distinctively.\n",
    "- Foreign Key is a column in a table whose values match the values of a Primary Key column in another table."
   ]
  },
  {
   "attachments": {},
   "cell_type": "markdown",
   "metadata": {},
   "source": [
    "# 7.3.5 Using EV Charging, For the folks who charged longer than one hour, show the min and max of the charging time for each user. Your output columns should be userid, minTime, and maxTime. Order this result set by the last two columns respectively. HINT: USE HAVING\n",
    "-- SELECT userId, MIN(chargeTimeHrs) as 'minhours', MAX(chargeTimeHrs) as 'maxHours'\n",
    "-- FROM EVCharging\n",
    "-- GROUP BY userId\n",
    "-- HAVING SUM(chargeTimeHrs) > 1 \n",
    "-- ORDER BY 2,3;"
   ]
  }
 ],
 "metadata": {
  "kernelspec": {
   "display_name": "Python 3",
   "language": "python",
   "name": "python3"
  },
  "language_info": {
   "name": "python",
   "version": "3.11.3"
  },
  "orig_nbformat": 4
 },
 "nbformat": 4,
 "nbformat_minor": 2
}
